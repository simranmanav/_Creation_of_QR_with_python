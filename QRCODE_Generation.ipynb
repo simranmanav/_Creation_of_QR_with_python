{
 "cells": [
  {
   "cell_type": "code",
   "execution_count": 1,
   "id": "cd8e743a-13eb-4e48-9eb6-717365b58167",
   "metadata": {},
   "outputs": [
    {
     "name": "stdout",
     "output_type": "stream",
     "text": [
      "Collecting qrcode\n",
      "  Downloading qrcode-7.4.2-py3-none-any.whl.metadata (17 kB)\n",
      "Requirement already satisfied: typing-extensions in c:\\users\\simra\\anaconda3\\lib\\site-packages (from qrcode) (4.9.0)\n",
      "Collecting pypng (from qrcode)\n",
      "  Downloading pypng-0.20220715.0-py3-none-any.whl.metadata (13 kB)\n",
      "Requirement already satisfied: colorama in c:\\users\\simra\\anaconda3\\lib\\site-packages (from qrcode) (0.4.6)\n",
      "Downloading qrcode-7.4.2-py3-none-any.whl (46 kB)\n",
      "   ---------------------------------------- 0.0/46.2 kB ? eta -:--:--\n",
      "   ---------------------------------------- 46.2/46.2 kB 1.1 MB/s eta 0:00:00\n",
      "Downloading pypng-0.20220715.0-py3-none-any.whl (58 kB)\n",
      "   ---------------------------------------- 0.0/58.1 kB ? eta -:--:--\n",
      "   ---------------------------------------- 58.1/58.1 kB 3.0 MB/s eta 0:00:00\n",
      "Installing collected packages: pypng, qrcode\n",
      "Successfully installed pypng-0.20220715.0 qrcode-7.4.2\n",
      "Note: you may need to restart the kernel to use updated packages.\n"
     ]
    }
   ],
   "source": [
    "pip install qrcode"
   ]
  },
  {
   "cell_type": "code",
   "execution_count": 2,
   "id": "974bf7d1-ff55-4a05-98b1-caad8ad5ff0e",
   "metadata": {},
   "outputs": [],
   "source": [
    "import qrcode as qr"
   ]
  },
  {
   "cell_type": "code",
   "execution_count": 3,
   "id": "034587f4-e127-43a8-96ae-a4bfaa4e0cbc",
   "metadata": {},
   "outputs": [],
   "source": [
    "img =qr.make(\"https://github.com/simranmanav\")\n",
    "img.save(\"github_link.png\")\n"
   ]
  },
  {
   "cell_type": "markdown",
   "id": "54d4c7c8-db1b-45b5-98e6-ff9b55cab541",
   "metadata": {},
   "source": [
    "**Advance QR Code**"
   ]
  },
  {
   "cell_type": "code",
   "execution_count": 4,
   "id": "de390e4e-cbdd-4ac5-a8d7-fb7076fe0dc7",
   "metadata": {},
   "outputs": [],
   "source": [
    "from PIL import Image"
   ]
  },
  {
   "cell_type": "code",
   "execution_count": 8,
   "id": "62b41504-54ab-4d82-ba3f-2d06bfe39e10",
   "metadata": {},
   "outputs": [],
   "source": [
    "Qr=qr.QRCode(version=1,\n",
    "                error_correction=qr.constants.ERROR_CORRECT_H,\n",
    "                box_size=10,border=4,)\n",
    "Qr.add_data(\"https://github.com/simranmanav\")\n",
    "Qr.make(fit=True)\n",
    "img1=Qr.make_image(fill_color=\"red\",back_color=\"yellow\")\n",
    "img1.save(\"github_link_QR_ADV.png\")"
   ]
  }
 ],
 "metadata": {
  "kernelspec": {
   "display_name": "Python 3 (ipykernel)",
   "language": "python",
   "name": "python3"
  },
  "language_info": {
   "codemirror_mode": {
    "name": "ipython",
    "version": 3
   },
   "file_extension": ".py",
   "mimetype": "text/x-python",
   "name": "python",
   "nbconvert_exporter": "python",
   "pygments_lexer": "ipython3",
   "version": "3.11.7"
  }
 },
 "nbformat": 4,
 "nbformat_minor": 5
}
